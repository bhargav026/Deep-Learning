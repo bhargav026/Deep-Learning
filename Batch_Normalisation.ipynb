{
  "nbformat": 4,
  "nbformat_minor": 0,
  "metadata": {
    "colab": {
      "provenance": []
    },
    "kernelspec": {
      "name": "python3",
      "display_name": "Python 3"
    },
    "language_info": {
      "name": "python"
    }
  },
  "cells": [
    {
      "cell_type": "markdown",
      "source": [
        "# Before Applying Batch Normalisation\n"
      ],
      "metadata": {
        "id": "yJ_tSKImpkmc"
      }
    },
    {
      "cell_type": "code",
      "execution_count": 1,
      "metadata": {
        "id": "yFFK0PSFpgmt"
      },
      "outputs": [],
      "source": [
        "import tensorflow as tf\n",
        "import numpy as np\n",
        "import keras\n",
        "import matplotlib.pyplot as plt\n",
        "import time"
      ]
    },
    {
      "cell_type": "code",
      "source": [
        "mnist = tf.keras.datasets.mnist\n",
        "(X_train_full,y_train_full),(X_test, y_test) = mnist.load_data()"
      ],
      "metadata": {
        "id": "veciB9KVp2xm"
      },
      "execution_count": 4,
      "outputs": []
    },
    {
      "cell_type": "code",
      "source": [
        "X_train_full.shape[2]"
      ],
      "metadata": {
        "colab": {
          "base_uri": "https://localhost:8080/"
        },
        "id": "Z9H4TSgUrIRi",
        "outputId": "e7ba7ee4-37fa-446a-d686-f8379697795e"
      },
      "execution_count": 9,
      "outputs": [
        {
          "output_type": "execute_result",
          "data": {
            "text/plain": [
              "28"
            ]
          },
          "metadata": {},
          "execution_count": 9
        }
      ]
    },
    {
      "cell_type": "code",
      "source": [
        "X_valid, X_train = X_train_full[:5000]/255. , X_train_full[5000:]/255.\n",
        "y_valid, y_train = y_train_full[:5000], y_train_full[5000:]\n",
        "\n",
        "X_test = X_test/255.\n",
        "\n",
        "#min max scalling"
      ],
      "metadata": {
        "id": "4Es2mHybqKky"
      },
      "execution_count": 5,
      "outputs": []
    },
    {
      "cell_type": "code",
      "source": [
        "LAYER = [\n",
        "    tf.keras.layers.Flatten(input_shape= [X_train_full.shape[1],X_train_full.shape[2]]),\n",
        "    tf.keras.layers.Dense(300, kernel_initializer='he_normal'),\n",
        "    tf.keras.layers.LeakyReLU(),\n",
        "    tf.keras.layers.Dense(100, kernel_initializer='he_normal'),\n",
        "    tf.keras.layers.LeakyReLU(),\n",
        "    tf.keras.layers.Dense(10,activation = 'softmax')\n",
        "\n",
        "]"
      ],
      "metadata": {
        "id": "u1g-S6VUqxOW"
      },
      "execution_count": 10,
      "outputs": []
    },
    {
      "cell_type": "code",
      "source": [
        "model = tf.keras.models.Sequential(LAYER)\n",
        "\n",
        "model.compile(loss = 'sparse_categorical_crossentropy', optimizer = tf.keras.optimizers.SGD(learning_rate= 1e-2), metrics=['accuracy'])"
      ],
      "metadata": {
        "id": "c1BsvXicsAAk"
      },
      "execution_count": 15,
      "outputs": []
    },
    {
      "cell_type": "code",
      "source": [
        "model.summary()"
      ],
      "metadata": {
        "colab": {
          "base_uri": "https://localhost:8080/"
        },
        "id": "2-uyK6pTsefo",
        "outputId": "bb01186a-a03a-4bba-c20f-c85c8a6f4377"
      },
      "execution_count": 16,
      "outputs": [
        {
          "output_type": "stream",
          "name": "stdout",
          "text": [
            "Model: \"sequential_2\"\n",
            "_________________________________________________________________\n",
            " Layer (type)                Output Shape              Param #   \n",
            "=================================================================\n",
            " flatten (Flatten)           (None, 784)               0         \n",
            "                                                                 \n",
            " dense (Dense)               (None, 300)               235500    \n",
            "                                                                 \n",
            " leaky_re_lu (LeakyReLU)     (None, 300)               0         \n",
            "                                                                 \n",
            " dense_1 (Dense)             (None, 100)               30100     \n",
            "                                                                 \n",
            " leaky_re_lu_1 (LeakyReLU)   (None, 100)               0         \n",
            "                                                                 \n",
            " dense_2 (Dense)             (None, 10)                1010      \n",
            "                                                                 \n",
            "=================================================================\n",
            "Total params: 266,610\n",
            "Trainable params: 266,610\n",
            "Non-trainable params: 0\n",
            "_________________________________________________________________\n"
          ]
        }
      ]
    },
    {
      "cell_type": "code",
      "source": [
        "start = time.time()\n",
        "\n",
        "model.fit(X_train, y_train, epochs = 20, validation_data = (X_valid, y_valid))\n",
        "\n",
        "end = time.time()\n",
        "\n",
        "print(f\"run time is {end-start}\")"
      ],
      "metadata": {
        "colab": {
          "base_uri": "https://localhost:8080/"
        },
        "id": "WsOzowMwsnQ3",
        "outputId": "4447db15-7696-4d78-c241-7e98184e2778"
      },
      "execution_count": 17,
      "outputs": [
        {
          "output_type": "stream",
          "name": "stdout",
          "text": [
            "Epoch 1/20\n",
            "1719/1719 [==============================] - 7s 4ms/step - loss: 0.5601 - accuracy: 0.8493 - val_loss: 0.3094 - val_accuracy: 0.9138\n",
            "Epoch 2/20\n",
            "1719/1719 [==============================] - 5s 3ms/step - loss: 0.2967 - accuracy: 0.9152 - val_loss: 0.2510 - val_accuracy: 0.9288\n",
            "Epoch 3/20\n",
            "1719/1719 [==============================] - 6s 4ms/step - loss: 0.2525 - accuracy: 0.9279 - val_loss: 0.2265 - val_accuracy: 0.9376\n",
            "Epoch 4/20\n",
            "1719/1719 [==============================] - 6s 4ms/step - loss: 0.2221 - accuracy: 0.9368 - val_loss: 0.1983 - val_accuracy: 0.9454\n",
            "Epoch 5/20\n",
            "1719/1719 [==============================] - 6s 3ms/step - loss: 0.1990 - accuracy: 0.9425 - val_loss: 0.1827 - val_accuracy: 0.9500\n",
            "Epoch 6/20\n",
            "1719/1719 [==============================] - 5s 3ms/step - loss: 0.1806 - accuracy: 0.9481 - val_loss: 0.1647 - val_accuracy: 0.9560\n",
            "Epoch 7/20\n",
            "1719/1719 [==============================] - 6s 3ms/step - loss: 0.1647 - accuracy: 0.9527 - val_loss: 0.1540 - val_accuracy: 0.9582\n",
            "Epoch 8/20\n",
            "1719/1719 [==============================] - 5s 3ms/step - loss: 0.1517 - accuracy: 0.9569 - val_loss: 0.1450 - val_accuracy: 0.9600\n",
            "Epoch 9/20\n",
            "1719/1719 [==============================] - 5s 3ms/step - loss: 0.1403 - accuracy: 0.9598 - val_loss: 0.1365 - val_accuracy: 0.9630\n",
            "Epoch 10/20\n",
            "1719/1719 [==============================] - 5s 3ms/step - loss: 0.1302 - accuracy: 0.9627 - val_loss: 0.1287 - val_accuracy: 0.9644\n",
            "Epoch 11/20\n",
            "1719/1719 [==============================] - 5s 3ms/step - loss: 0.1219 - accuracy: 0.9649 - val_loss: 0.1213 - val_accuracy: 0.9636\n",
            "Epoch 12/20\n",
            "1719/1719 [==============================] - 6s 4ms/step - loss: 0.1137 - accuracy: 0.9672 - val_loss: 0.1186 - val_accuracy: 0.9676\n",
            "Epoch 13/20\n",
            "1719/1719 [==============================] - 5s 3ms/step - loss: 0.1063 - accuracy: 0.9696 - val_loss: 0.1149 - val_accuracy: 0.9694\n",
            "Epoch 14/20\n",
            "1719/1719 [==============================] - 6s 3ms/step - loss: 0.1003 - accuracy: 0.9715 - val_loss: 0.1096 - val_accuracy: 0.9688\n",
            "Epoch 15/20\n",
            "1719/1719 [==============================] - 5s 3ms/step - loss: 0.0946 - accuracy: 0.9733 - val_loss: 0.1050 - val_accuracy: 0.9716\n",
            "Epoch 16/20\n",
            "1719/1719 [==============================] - 7s 4ms/step - loss: 0.0887 - accuracy: 0.9749 - val_loss: 0.1029 - val_accuracy: 0.9710\n",
            "Epoch 17/20\n",
            "1719/1719 [==============================] - 5s 3ms/step - loss: 0.0839 - accuracy: 0.9762 - val_loss: 0.1002 - val_accuracy: 0.9726\n",
            "Epoch 18/20\n",
            "1719/1719 [==============================] - 7s 4ms/step - loss: 0.0795 - accuracy: 0.9781 - val_loss: 0.0959 - val_accuracy: 0.9740\n",
            "Epoch 19/20\n",
            "1719/1719 [==============================] - 6s 4ms/step - loss: 0.0754 - accuracy: 0.9789 - val_loss: 0.0930 - val_accuracy: 0.9728\n",
            "Epoch 20/20\n",
            "1719/1719 [==============================] - 5s 3ms/step - loss: 0.0714 - accuracy: 0.9802 - val_loss: 0.0950 - val_accuracy: 0.9736\n",
            "run time is 113.82724285125732\n"
          ]
        }
      ]
    },
    {
      "cell_type": "markdown",
      "source": [
        "# after batch normlisation"
      ],
      "metadata": {
        "id": "Ba8CKpxTtZMW"
      }
    },
    {
      "cell_type": "code",
      "source": [
        "del model"
      ],
      "metadata": {
        "id": "KUQ1AcnltsQW"
      },
      "execution_count": 23,
      "outputs": []
    },
    {
      "cell_type": "code",
      "source": [
        "LAYER = [\n",
        "    tf.keras.layers.Flatten(input_shape= [X_train_full.shape[1],X_train_full.shape[2]]),\n",
        "    tf.keras.layers.BatchNormalization(),\n",
        "    tf.keras.layers.Dense(300, kernel_initializer='he_normal'),\n",
        "    tf.keras.layers.LeakyReLU(),\n",
        "    tf.keras.layers.BatchNormalization(),\n",
        "    tf.keras.layers.Dense(100, kernel_initializer='he_normal'),\n",
        "    tf.keras.layers.LeakyReLU(),\n",
        "    tf.keras.layers.BatchNormalization(),\n",
        "    tf.keras.layers.Dense(10,activation = 'softmax')\n",
        "\n",
        "]\n",
        "\n",
        "model = tf.keras.models.Sequential(LAYER)"
      ],
      "metadata": {
        "id": "OQ4PqU6WtEpC"
      },
      "execution_count": 24,
      "outputs": []
    },
    {
      "cell_type": "code",
      "source": [
        "model.compile(loss = 'sparse_categorical_crossentropy', optimizer = tf.keras.optimizers.SGD(learning_rate= 1e-2), metrics=['accuracy'])"
      ],
      "metadata": {
        "id": "DS7nMy-euF2W"
      },
      "execution_count": 25,
      "outputs": []
    },
    {
      "cell_type": "code",
      "source": [
        "model.summary()"
      ],
      "metadata": {
        "colab": {
          "base_uri": "https://localhost:8080/"
        },
        "id": "TaLy_U5UuN47",
        "outputId": "67ed7984-7a2d-44b9-a2ad-7e2f2d2b1ed3"
      },
      "execution_count": 26,
      "outputs": [
        {
          "output_type": "stream",
          "name": "stdout",
          "text": [
            "Model: \"sequential_4\"\n",
            "_________________________________________________________________\n",
            " Layer (type)                Output Shape              Param #   \n",
            "=================================================================\n",
            " flatten_3 (Flatten)         (None, 784)               0         \n",
            "                                                                 \n",
            " batch_normalization_6 (Batc  (None, 784)              3136      \n",
            " hNormalization)                                                 \n",
            "                                                                 \n",
            " dense_9 (Dense)             (None, 300)               235500    \n",
            "                                                                 \n",
            " leaky_re_lu_6 (LeakyReLU)   (None, 300)               0         \n",
            "                                                                 \n",
            " batch_normalization_7 (Batc  (None, 300)              1200      \n",
            " hNormalization)                                                 \n",
            "                                                                 \n",
            " dense_10 (Dense)            (None, 100)               30100     \n",
            "                                                                 \n",
            " leaky_re_lu_7 (LeakyReLU)   (None, 100)               0         \n",
            "                                                                 \n",
            " batch_normalization_8 (Batc  (None, 100)              400       \n",
            " hNormalization)                                                 \n",
            "                                                                 \n",
            " dense_11 (Dense)            (None, 10)                1010      \n",
            "                                                                 \n",
            "=================================================================\n",
            "Total params: 271,346\n",
            "Trainable params: 268,978\n",
            "Non-trainable params: 2,368\n",
            "_________________________________________________________________\n"
          ]
        }
      ]
    },
    {
      "cell_type": "code",
      "source": [
        "start = time.time()\n",
        "\n",
        "model.fit(X_train, y_train, epochs = 20, validation_data = (X_valid, y_valid))\n",
        "\n",
        "end = time.time()\n",
        "\n",
        "print(f\"run time is {end-start}\")"
      ],
      "metadata": {
        "colab": {
          "base_uri": "https://localhost:8080/"
        },
        "id": "NGgCG9-7uPFz",
        "outputId": "b4a7a4ba-3a89-44e4-e7a6-fb94813265c2"
      },
      "execution_count": 27,
      "outputs": [
        {
          "output_type": "stream",
          "name": "stdout",
          "text": [
            "Epoch 1/20\n",
            "1719/1719 [==============================] - 10s 5ms/step - loss: 0.4073 - accuracy: 0.8793 - val_loss: 0.2405 - val_accuracy: 0.9326\n",
            "Epoch 2/20\n",
            "1719/1719 [==============================] - 8s 5ms/step - loss: 0.2471 - accuracy: 0.9283 - val_loss: 0.1973 - val_accuracy: 0.9444\n",
            "Epoch 3/20\n",
            "1719/1719 [==============================] - 8s 5ms/step - loss: 0.2004 - accuracy: 0.9417 - val_loss: 0.1762 - val_accuracy: 0.9480\n",
            "Epoch 4/20\n",
            "1719/1719 [==============================] - 8s 5ms/step - loss: 0.1684 - accuracy: 0.9498 - val_loss: 0.1547 - val_accuracy: 0.9536\n",
            "Epoch 5/20\n",
            "1719/1719 [==============================] - 8s 5ms/step - loss: 0.1464 - accuracy: 0.9575 - val_loss: 0.1438 - val_accuracy: 0.9566\n",
            "Epoch 6/20\n",
            "1719/1719 [==============================] - 8s 5ms/step - loss: 0.1326 - accuracy: 0.9612 - val_loss: 0.1399 - val_accuracy: 0.9578\n",
            "Epoch 7/20\n",
            "1719/1719 [==============================] - 8s 5ms/step - loss: 0.1155 - accuracy: 0.9660 - val_loss: 0.1271 - val_accuracy: 0.9618\n",
            "Epoch 8/20\n",
            "1719/1719 [==============================] - 10s 6ms/step - loss: 0.1062 - accuracy: 0.9683 - val_loss: 0.1233 - val_accuracy: 0.9638\n",
            "Epoch 9/20\n",
            "1719/1719 [==============================] - 12s 7ms/step - loss: 0.0951 - accuracy: 0.9718 - val_loss: 0.1190 - val_accuracy: 0.9670\n",
            "Epoch 10/20\n",
            "1719/1719 [==============================] - 10s 6ms/step - loss: 0.0903 - accuracy: 0.9733 - val_loss: 0.1133 - val_accuracy: 0.9688\n",
            "Epoch 11/20\n",
            "1719/1719 [==============================] - 9s 5ms/step - loss: 0.0828 - accuracy: 0.9750 - val_loss: 0.1121 - val_accuracy: 0.9690\n",
            "Epoch 12/20\n",
            "1719/1719 [==============================] - 9s 5ms/step - loss: 0.0756 - accuracy: 0.9773 - val_loss: 0.1130 - val_accuracy: 0.9672\n",
            "Epoch 13/20\n",
            "1719/1719 [==============================] - 10s 6ms/step - loss: 0.0677 - accuracy: 0.9803 - val_loss: 0.1141 - val_accuracy: 0.9690\n",
            "Epoch 14/20\n",
            "1719/1719 [==============================] - 8s 5ms/step - loss: 0.0644 - accuracy: 0.9805 - val_loss: 0.1076 - val_accuracy: 0.9704\n",
            "Epoch 15/20\n",
            "1719/1719 [==============================] - 8s 5ms/step - loss: 0.0611 - accuracy: 0.9812 - val_loss: 0.1091 - val_accuracy: 0.9692\n",
            "Epoch 16/20\n",
            "1719/1719 [==============================] - 8s 5ms/step - loss: 0.0567 - accuracy: 0.9827 - val_loss: 0.1110 - val_accuracy: 0.9698\n",
            "Epoch 17/20\n",
            "1719/1719 [==============================] - 8s 5ms/step - loss: 0.0540 - accuracy: 0.9836 - val_loss: 0.1110 - val_accuracy: 0.9698\n",
            "Epoch 18/20\n",
            "1719/1719 [==============================] - 9s 5ms/step - loss: 0.0505 - accuracy: 0.9850 - val_loss: 0.1119 - val_accuracy: 0.9694\n",
            "Epoch 19/20\n",
            "1719/1719 [==============================] - 9s 5ms/step - loss: 0.0471 - accuracy: 0.9856 - val_loss: 0.1086 - val_accuracy: 0.9704\n",
            "Epoch 20/20\n",
            "1719/1719 [==============================] - 9s 5ms/step - loss: 0.0457 - accuracy: 0.9858 - val_loss: 0.1091 - val_accuracy: 0.9694\n",
            "run time is 178.82116389274597\n"
          ]
        }
      ]
    },
    {
      "cell_type": "code",
      "source": [
        "Here 96% train accuracy acheived at 6th epoch,  with out batch normalisation it took 10 epochs"
      ],
      "metadata": {
        "id": "kLcf9LmjucTE"
      },
      "execution_count": null,
      "outputs": []
    }
  ]
}